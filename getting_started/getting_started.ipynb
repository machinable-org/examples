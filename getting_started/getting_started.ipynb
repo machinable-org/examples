{
 "cells": [
  {
   "cell_type": "markdown",
   "metadata": {},
   "source": [
    "## Configurable components\n",
    "\n",
    "At the core of machinable is a system that enables you to divide your project into configurable components. A component encapsulates a part of code that you would like to execute *and* the configuration options that are associated with that code. Consider the following example script."
   ]
  },
  {
   "cell_type": "code",
   "execution_count": 1,
   "metadata": {},
   "outputs": [
    {
     "name": "stdout",
     "output_type": "stream",
     "text": [
      "0.10178571428571431\n"
     ]
    }
   ],
   "source": [
    "from sklearn.linear_model import Ridge\n",
    "model = Ridge(alpha=0.6)\n",
    "model.fit([[0, 0], [0, 1], [1, 1]], [0, .1, 1])\n",
    "print(model.intercept_)"
   ]
  },
  {
   "cell_type": "markdown",
   "metadata": {},
   "source": [
    "To encapsulate this regression model as a component, we wrap the code in a `Component` class in the [`ridge_regression.py`](ridge_regression.py) module and register the it in the [`machinable.yaml`](machinable.yaml)"
   ]
  },
  {
   "cell_type": "code",
   "execution_count": 2,
   "metadata": {},
   "outputs": [
    {
     "name": "stdout",
     "output_type": "stream",
     "text": [
      "\u001b[95m\n",
      "Execution: 1iNYbi\n",
      "----------\u001b[0m\n",
      "\u001b[94mStorage: Storage <mem://>\u001b[0m\n",
      "\u001b[94mEngine: Native\u001b[0m\n",
      "\u001b[94mIndex: NativeIndex\u001b[0m\n",
      "\u001b[94mProject: Project(/home/frithjof/Code/Python/machinable-org/examples/getting_started)\u001b[0m\n",
      "\u001b[95m\n",
      "0YN8K9UKvNjS (1/1)\u001b[0m\n",
      "\u001b[93m\n",
      "Component: ridge_regression\u001b[0m\n",
      ":: {'GLOBAL_SEED': 1571906194, 'EXPERIMENT_ID': '1iNYbi', 'SEED': 1335653992, 'COMPONENT_ID': '0YN8K9UKvNjS', 'NAME': 'ridge_regression', 'MODULE': 'ridge_regression'}\n",
      "\u001b[94m{_evaluate: true, alpha: 0.6}\n",
      "\u001b[0m\n",
      "0.10178571428571431\n",
      "\u001b[95m[Engine] Submission 0YN8K9UKvNjS of experiment 1iNYbi complete (1/1). \u001b[0m\n"
     ]
    }
   ],
   "source": [
    "from machinable import execute\n",
    "q = execute(\"ridge_regression\")"
   ]
  },
  {
   "cell_type": "code",
   "execution_count": null,
   "metadata": {},
   "outputs": [],
   "source": []
  },
  {
   "cell_type": "code",
   "execution_count": null,
   "metadata": {},
   "outputs": [],
   "source": []
  },
  {
   "cell_type": "code",
   "execution_count": null,
   "metadata": {},
   "outputs": [],
   "source": []
  }
 ],
 "metadata": {
  "kernelspec": {
   "display_name": "Python 3",
   "language": "python",
   "name": "python3"
  },
  "language_info": {
   "codemirror_mode": {
    "name": "ipython",
    "version": 3
   },
   "file_extension": ".py",
   "mimetype": "text/x-python",
   "name": "python",
   "nbconvert_exporter": "python",
   "pygments_lexer": "ipython3",
   "version": "3.7.1"
  }
 },
 "nbformat": 4,
 "nbformat_minor": 2
}
